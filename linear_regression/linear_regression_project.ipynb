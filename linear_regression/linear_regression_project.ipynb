{
 "cells": [
  {
   "cell_type": "code",
   "execution_count": 36,
   "metadata": {
    "collapsed": true
   },
   "outputs": [],
   "source": [
    "# encoding=utf-8\n",
    "import pprint"
   ]
  },
  {
   "cell_type": "code",
   "execution_count": 66,
   "metadata": {
    "collapsed": true
   },
   "outputs": [],
   "source": [
    "# 1.1\n",
    "F = [[1,2,3,4],\n",
    "     [1,1,1,1],\n",
    "     [9,8,8,1]]\n",
    "\n",
    "E = [[1,2,3,4],\n",
    "     [5,6,7,8],\n",
    "     [2,3,4,5],\n",
    "     [1,3,4,5]]\n",
    "\n",
    "A= [[1,2,3,4],\n",
    "     [5,6,8,9],\n",
    "     [9,8,8,4],\n",
    "     [6,4,2,4]]\n",
    "\n",
    "c = [1,2,3,4]\n",
    "\n",
    "b = [1,2,3]"
   ]
  },
  {
   "cell_type": "code",
   "execution_count": 44,
   "metadata": {
    "collapsed": true
   },
   "outputs": [],
   "source": [
    "# 1.2返回矩阵的行和列\n",
    "def shape(M):\n",
    "    c = len(M[0])\n",
    "    r = 0\n",
    "    for x in M:\n",
    "        r += 1\n",
    "    return r,c"
   ]
  },
  {
   "cell_type": "code",
   "execution_count": 45,
   "metadata": {
    "collapsed": true
   },
   "outputs": [],
   "source": [
    "# 1.3元素四舍五入到特定的小数位\n",
    "def matxRound(M, decPts=4): \n",
    "        print [[round(y,decPts) for y in x ] for x in M]"
   ]
  },
  {
   "cell_type": "code",
   "execution_count": 46,
   "metadata": {
    "collapsed": true
   },
   "outputs": [],
   "source": [
    "# 1.4计算矩阵的转置\n",
    "def transpose(M):\n",
    "    return [[row[col] for row in M] for col in range(len(M[0]))]"
   ]
  },
  {
   "cell_type": "code",
   "execution_count": 47,
   "metadata": {
    "collapsed": true
   },
   "outputs": [],
   "source": [
    "# 1.5计算矩阵乘法 AB，如果无法相乘则返回None\n",
    "def matxMultiply(A,B):\n",
    "    #查看A的列数和B的行数是否相等\n",
    "    A_C = len(A[0])\n",
    "    B_R = 0\n",
    "    for x in B:\n",
    "        B_R += 1\n",
    "        \n",
    "    if A_C == B_R:\n",
    "        #A * B\n",
    "        return [[sum(a * b for a, b in zip(a, b)) for b in zip(*B)] for a in A]\n",
    "    else:\n",
    "        return None"
   ]
  },
  {
   "cell_type": "code",
   "execution_count": 48,
   "metadata": {
    "collapsed": true
   },
   "outputs": [],
   "source": [
    "# 2.1 构造增广矩阵，假设A，b行数相同\n",
    "def augmentMatrix(A, b):\n",
    "    R_A = 0\n",
    "    for x in A:\n",
    "        R_A += 1\n",
    "    R_B = len(b)\n",
    "    print (R_A,R_B)\n",
    "    if R_A == R_B:\n",
    "        for item ,x in enumerate(A):\n",
    "            x.append(b[item])\n",
    "        return A\n",
    "    else:\n",
    "        return None\n",
    "        "
   ]
  },
  {
   "cell_type": "code",
   "execution_count": 62,
   "metadata": {
    "collapsed": true
   },
   "outputs": [],
   "source": [
    "# 2.2 初等行变换\n",
    "\n",
    "# 交换两行\n",
    "# TODO r1 <---> r2\n",
    "# 直接修改参数矩阵，无返回值\n",
    "def swapRows(M, r1, r2):\n",
    "    M[r1],M[r2] = M[r2],M[r1]\n",
    "\n",
    "# TODO r1 <--- r1 * scale， scale!=0\n",
    "def scaleRow(M, r, scale):\n",
    "    M[r] = [round(scale*x,4) for x in M[r]]\n",
    "\n",
    "# TODO r1 <--- r1 + r2*scale\n",
    "def addScaledRow(M, r1, r2, scale):\n",
    "    c = 0\n",
    "    for x in M:\n",
    "        c += 1\n",
    "    if r1 > c or r2 > c:\n",
    "        return \"当前选择的行超出了矩阵的最大列\"\n",
    "\n",
    "    M[r2] = [scale*x for x in M[r2]]\n",
    "    M[r1] = [x + y for x,y in zip(M[r1],M[r2])]"
   ]
  },
  {
   "cell_type": "code",
   "execution_count": 67,
   "metadata": {
    "collapsed": true
   },
   "outputs": [],
   "source": [
    "def gj_Solve(A, b, decPts=4, epsilon = 1.0e-16):\n",
    "    #1.1检查A，b的行数是否相等\n",
    "    R_A,C_A = shape(A)\n",
    "    R_B = len(b)\n",
    "    if R_A == R_B:\n",
    "        #1.2构造增广矩阵Ab,A_b就会A和b的增广矩阵\n",
    "        augmentMatrix(A,b)\n",
    "        num_equations = R_A\n",
    "        num_variables = C_A\n",
    "        j = 1 \n",
    "        z = j\n",
    "        for i in range(num_variables - 1):\n",
    "            max_num = get_martix_value_position(A,i,num_equations)\n",
    "            print( \"行 = \" + str(j) +\"---\" + \"列=\" + str(i) )\n",
    "            print(\"最大值所在的行 = \" + str(max_num))\n",
    "            if max != None:\n",
    "                swapRows(A,i,max_num)\n",
    "            scale = 1.0/A[i][i]\n",
    "            #把对角元素化为1   \n",
    "            scaleRow(A,i,scale)\n",
    "            print A[i]\n",
    "            while j < num_equations:\n",
    "                clear_coefficient_row(A,i,j)\n",
    "                if j == num_equations - 1:\n",
    "                    j = z\n",
    "                    break\n",
    "                j += 1\n",
    "            j += 1 \n",
    "            z = j\n",
    "       \n",
    "        pprint.pprint(A)\n",
    "        #返回Ab中的最后一列\n",
    "        LAST_LIST = get_augmentMatrix_last_row(A)\n",
    "        pprint.pprint(LAST_LIST)\n",
    "        return LAST_LIST\n",
    "        \n",
    "    else:\n",
    "        print (\"A and c not match\")\n",
    "        return None\n",
    "\n",
    "#这里做的事情就是从对角元素开始往下取元素，然后得到绝对值所在的最大一行的位置，和第一行交换\n",
    "#如果这里面的绝对值最大是0，就说明是奇异矩阵\n",
    "def get_martix_value_position(A,row,col):\n",
    "    MAX_LIST = {}\n",
    "    for y in range(row,col):\n",
    "        #键值对的形式存储\n",
    "        MAX_LIST[y] = A[y][row]\n",
    "        \n",
    "    max_num= max(zip(MAX_LIST.values(),MAX_LIST.keys()))[0]\n",
    "    key_index  = max(zip(MAX_LIST.values(),MAX_LIST.keys()))[1]\n",
    "    print MAX_LIST\n",
    "    print(\"最大值所在的位置是：\" + str(key_index) + \"最大值是：\" + str(max_num) )\n",
    "    #取出最大的数，之后在取出矩阵的数，比较如果相等，就把矩阵中的数所在的角标返回去\n",
    "    if max_num == 0 :\n",
    "        print (\"data is all zero\")\n",
    "        return None\n",
    "    else:\n",
    "        return key_index\n",
    "    \n",
    "def clear_coefficient_row(A,col,row,decPts=4):\n",
    "    num_scale = -1.0/A[row][col]\n",
    "    print(\"缩放值 = \" + str(num_scale) + \"缩放之的原数 = \" + str(A[row][col]) + \"缩放值所在的行和列=\" + str(row) + \" or \"+ str(col))\n",
    "    print(\"缩放前 A[\" + str(row) + \"] =\" + str(A[row]))\n",
    "    A[row] = [round(num_scale * x,decPts) for x in A[row]] \n",
    "    print(\"缩放后 A[\" + str(row) + \"] =\" + str(A[row]))\n",
    "    print(\"与之相加的数是\" + str(A[col]))\n",
    "    A[row] = [x + y for x,y in zip(A[col],A[row])]\n",
    "    print(\"清除之后 A[\" + str(row) + \"] =\" + str(A[row]))\n",
    "                  \n",
    "                  \n",
    "def get_augmentMatrix_last_row(A):\n",
    "    LAST_LIST = []\n",
    "    for x in A:\n",
    "       LAST_LIST.append(x[len(A)]) \n",
    "    return LAST_LIST"
   ]
  },
  {
   "cell_type": "markdown",
   "metadata": {},
   "source": [
    "#2.4证明\n",
    "“”“\n",
    "证明 I是单位矩阵 Z是零矩阵 Y的第一列是零 X是任意的矩阵\n",
    "\n",
    "    A是方阵，假设A是nxn的方阵，又因为I是单位矩阵 Z是零矩阵 Y的第一列是零 X是任意的矩阵\n",
    "    所以可以认为当A是非奇异方阵的时候的秩是n \n",
    "    \n",
    "    此时的r(A) = r(I) + r(Y) 等于上下分块矩阵的秩的和，上面的矩阵是I和X I是单位阵所以上边的秩可以\n",
    "    认为就是单位矩阵的秩r(I)   下部分中Z是零矩阵 Y的第一列是零向量所以下边的秩可以认为是r(Y)\n",
    "    \n",
    "    此时假设r(I) = m ,那么Y中就有n - m那么多列，因为Y中最后一列是零向量，====》r(Y) < n - m\n",
    "    所以此时的总的分块矩阵的秩r(I) + r(Y) < n，也就是r(A) < n,所以A是奇异矩阵，此时的A的秩不是满秩\n",
    "“”“\n",
    "\n",
    "\n"
   ]
  },
  {
   "cell_type": "code",
   "execution_count": null,
   "metadata": {
    "collapsed": true
   },
   "outputs": [],
   "source": [
    "#3中问题没有学到，请导师指点，什么是损失精度和线性回归"
   ]
  }
 ],
 "metadata": {
  "kernelspec": {
   "display_name": "Python 2",
   "language": "python",
   "name": "python2"
  },
  "language_info": {
   "codemirror_mode": {
    "name": "ipython",
    "version": 2
   },
   "file_extension": ".py",
   "mimetype": "text/x-python",
   "name": "python",
   "nbconvert_exporter": "python",
   "pygments_lexer": "ipython2",
   "version": "2.7.13"
  }
 },
 "nbformat": 4,
 "nbformat_minor": 2
}
